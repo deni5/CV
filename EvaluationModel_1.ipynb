{
  "nbformat": 4,
  "nbformat_minor": 0,
  "metadata": {
    "colab": {
      "provenance": []
    },
    "kernelspec": {
      "name": "python3",
      "display_name": "Python 3"
    },
    "language_info": {
      "name": "python"
    }
  },
  "cells": [
    {
      "cell_type": "code",
      "source": [
        "# Geometric Image Value (size, proportions)\n",
        "import cv2\n",
        "import numpy as np\n",
        "from skimage.metrics import structural_similarity as ssim\n",
        "from skimage import img_as_ubyte\n",
        "\n",
        "def compare_images(image1, image2):\n",
        "    # Resize images to the same dimensions\n",
        "    height, width = min(image1.shape[0], image2.shape[0]), min(image1.shape[1], image2.shape[1])\n",
        "    image1 = cv2.resize(image1, (width, height))\n",
        "    image2 = cv2.resize(image2, (width, height))\n",
        "\n",
        "    # Convert images to grayscale\n",
        "    gray1 = cv2.cvtColor(image1, cv2.COLOR_BGR2GRAY)\n",
        "    gray2 = cv2.cvtColor(image2, cv2.COLOR_BGR2GRAY)\n",
        "\n",
        "    # Calculate histogram differences\n",
        "    hist_diff = cv2.compareHist(cv2.calcHist([gray1], [0], None, [256], [0,256]),\n",
        "                                cv2.calcHist([gray2], [0], None, [256], [0,256]), cv2.HISTCMP_CORREL)\n",
        "\n",
        "    # Structural Similarity Index (SSIM)\n",
        "    ssim_score = ssim(img_as_ubyte(gray1), img_as_ubyte(gray2))\n",
        "\n",
        "    # Feature matching using ORB (Oriented FAST and Rotated BRIEF)\n",
        "    orb = cv2.ORB_create()\n",
        "    kp1, des1 = orb.detectAndCompute(gray1, None)\n",
        "    kp2, des2 = orb.detectAndCompute(gray2, None)\n",
        "\n",
        "    bf = cv2.BFMatcher(cv2.NORM_HAMMING, crossCheck=True)\n",
        "    matches = bf.match(des1, des2)\n",
        "    match_score = len(matches)\n",
        "\n",
        "    return hist_diff, ssim_score, match_score\n",
        "\n",
        "# Example usage\n",
        "image1_path = '505.jpg'\n",
        "image2_path = '506.jpg'\n",
        "\n",
        "image1 = cv2.imread(image1_path)\n",
        "image2 = cv2.imread(image2_path)\n",
        "\n",
        "if image1 is not None and image2 is not None:\n",
        "    hist_diff, ssim_score, match_score = compare_images(image1, image2)\n",
        "    print(\"Histogram difference:\", hist_diff)\n",
        "    print(\"SSIM:\", ssim_score)\n",
        "    print(\"Match score:\", match_score)\n",
        "else:\n",
        "    print(\"Error: Unable to load one or both images.\")\n",
        "\n"
      ],
      "metadata": {
        "colab": {
          "base_uri": "https://localhost:8080/"
        },
        "id": "CUAJ2GzQbCO_",
        "outputId": "d073a0ff-9344-4854-8e6e-ef2f8f67aca3"
      },
      "execution_count": 59,
      "outputs": [
        {
          "output_type": "stream",
          "name": "stdout",
          "text": [
            "Histogram difference: 0.32354008654401883\n",
            "SSIM: 0.15142467156828443\n",
            "Match score: 139\n"
          ]
        }
      ]
    },
    {
      "cell_type": "code",
      "source": [
        "def calculate_image_value(hist_diff, ssim_score, match_score):\n",
        "    # Define weights for each characteristic\n",
        "    weight_hist_diff = 0.4\n",
        "    weight_ssim = 0.3\n",
        "    weight_match_score = 0.3\n",
        "\n",
        "    # Normalize the scores to range from 0 to 1\n",
        "    hist_diff_norm = min(hist_diff / 100, 1)\n",
        "    ssim_score_norm = min(ssim_score, 1)\n",
        "    match_score_norm = min(match_score / 1000, 1)\n",
        "\n",
        "    # Calculate the overall value using weighted average\n",
        "    overall_value = (weight_hist_diff * (1 - hist_diff_norm) +\n",
        "                     weight_ssim * ssim_score_norm +\n",
        "                     weight_match_score * match_score_norm) * 100\n",
        "\n",
        "    return overall_value\n",
        "\n",
        "# Example values (replace with actual values)\n",
        "hist_diff = 0.32354008654401883\n",
        "ssim_score = 0.15142467156828443\n",
        "match_score = 139\n",
        "\n",
        "# Calculate the overall value\n",
        "image_value = calculate_image_value(hist_diff, ssim_score, match_score)\n",
        "print(\"Geometric Image Value:\", image_value)\n",
        "\n"
      ],
      "metadata": {
        "colab": {
          "base_uri": "https://localhost:8080/"
        },
        "id": "1xE75Ybcextk",
        "outputId": "b167b823-f399-4acb-ef87-23616b2d1cf1"
      },
      "execution_count": 61,
      "outputs": [
        {
          "output_type": "stream",
          "name": "stdout",
          "text": [
            "Geometric Image Value: 48.58332411243093\n"
          ]
        }
      ]
    },
    {
      "cell_type": "code",
      "source": [
        "# Image Value Color and Texture\n",
        "def calculate_image_value(color_texture_score):\n",
        "    # Define the weight for color and texture score\n",
        "    weight_color_texture = 0.7\n",
        "\n",
        "    # Normalize the score to range from 0 to 1\n",
        "    color_texture_score_norm = min(color_texture_score / 100, 1)\n",
        "\n",
        "    # Calculate the overall value using the weighted score\n",
        "    overall_value = color_texture_score_norm * weight_color_texture * 100\n",
        "\n",
        "    return overall_value\n",
        "\n",
        "# Example value (replace with actual value)\n",
        "color_texture_score = 80\n",
        "\n",
        "# Calculate the overall value\n",
        "image_value = calculate_image_value(color_texture_score)\n",
        "print(\"Image Value Color and Texture:\", image_value)\n"
      ],
      "metadata": {
        "colab": {
          "base_uri": "https://localhost:8080/"
        },
        "id": "HDxas36wfgre",
        "outputId": "aaab869e-1e63-40b2-d0c1-2ecabbf1cf2f"
      },
      "execution_count": 62,
      "outputs": [
        {
          "output_type": "stream",
          "name": "stdout",
          "text": [
            "Image Value Color and Texture: 55.99999999999999\n"
          ]
        }
      ]
    },
    {
      "cell_type": "code",
      "source": [
        "# Image Value Depth\n",
        "def calculate_image_value(depth_score):\n",
        "    # Define the weight for depth score\n",
        "    weight_depth = 0.8\n",
        "\n",
        "    # Normalize the score to range from 0 to 1\n",
        "    depth_score_norm = min(depth_score / 100, 1)\n",
        "\n",
        "    # Calculate the overall value using the weighted score\n",
        "    overall_value = depth_score_norm * weight_depth * 100\n",
        "\n",
        "    return overall_value\n",
        "\n",
        "# Example value for depth score (replace with actual value)\n",
        "depth_score = 90\n",
        "\n",
        "# Calculate the overall value\n",
        "image_value = calculate_image_value(depth_score)\n",
        "print(\"Image Value Depth:\", image_value)\n"
      ],
      "metadata": {
        "colab": {
          "base_uri": "https://localhost:8080/"
        },
        "id": "wTmRL9uOgBvf",
        "outputId": "03da5eeb-1bfe-4a5d-aba8-30dd996b282c"
      },
      "execution_count": 63,
      "outputs": [
        {
          "output_type": "stream",
          "name": "stdout",
          "text": [
            "Image Value Depth: 72.00000000000001\n"
          ]
        }
      ]
    },
    {
      "cell_type": "code",
      "source": [
        "# Image Value Lighting\n",
        "def calculate_image_value(lighting_score):\n",
        "    # Define the weight for lighting score\n",
        "    weight_lighting = 0.7\n",
        "\n",
        "    # Normalize the score to range from 0 to 1\n",
        "    lighting_score_norm = min(lighting_score / 100, 1)\n",
        "\n",
        "    # Calculate the overall value using the weighted score\n",
        "    overall_value = lighting_score_norm * weight_lighting * 100\n",
        "\n",
        "    return overall_value\n",
        "\n",
        "# Example value for lighting score (replace with actual value)\n",
        "lighting_score = 85\n",
        "\n",
        "# Calculate the overall value\n",
        "image_value = calculate_image_value(lighting_score)\n",
        "print(\"Image Value Lighting:\", image_value)\n"
      ],
      "metadata": {
        "colab": {
          "base_uri": "https://localhost:8080/"
        },
        "id": "mVF0aI7ygTvw",
        "outputId": "bdb0cf44-4f39-435c-8084-2caf4db93b9f"
      },
      "execution_count": 64,
      "outputs": [
        {
          "output_type": "stream",
          "name": "stdout",
          "text": [
            "Image Value Lighting: 59.5\n"
          ]
        }
      ]
    },
    {
      "cell_type": "code",
      "source": [
        "# rating on objects detected\n",
        "import cv2\n",
        "import numpy as np\n",
        "\n",
        "def detect_objects(image):\n",
        "# logic for identifying objects in the image\n",
        "# object detector, neural network, etc\n",
        "# list of objects and their characteristics\n",
        "    objects = []\n",
        "    characteristics = []\n",
        "    return objects, characteristics\n",
        "\n",
        "def analyze_image(image_path):\n",
        "    image = cv2.imread(image_path)\n",
        "\n",
        "    if image is not None:\n",
        "# Definition of objects in the image and their characteristics\n",
        "        objects, characteristics = detect_objects(image)\n",
        "\n",
        "        if objects is not None and characteristics is not None:\n",
        "# Counting the number of objects\n",
        "            num_objects = len(objects)\n",
        "\n",
        "# Counting the total number of features to be recognized by the 3D model\n",
        "            total_characteristics = sum(len(char) for char in characteristics)\n",
        "\n",
        "            print(\"Quantity of objects:\", num_objects)\n",
        "            print(\"Number of characteristics for 3D model recognition:\", total_characteristics)\n",
        "\n",
        "# Evaluation of the total value of the image\n",
        "# Your code to estimate the total value of the image\n",
        "\n",
        "        else:\n",
        "            print(\"Unable to identify objects and their characteristics in the image.\")\n",
        "    else:\n",
        "        print(\"Failed to load image.\")\n",
        "\n",
        "image_path = '506.jpg'\n",
        "analyze_image(image_path)\n",
        "\n"
      ],
      "metadata": {
        "colab": {
          "base_uri": "https://localhost:8080/"
        },
        "id": "sD87W2s5g5Oh",
        "outputId": "7206a26c-ff8b-4a65-ef15-4e40c3ff4826"
      },
      "execution_count": 65,
      "outputs": [
        {
          "output_type": "stream",
          "name": "stdout",
          "text": [
            "Quantity of objects: 0\n",
            "Number of characteristics for 3D model recognition: 0\n"
          ]
        }
      ]
    },
    {
      "cell_type": "code",
      "source": [
        "def calculate_overall_rating(num_objects, num_characteristics):\n",
        "    # The maximum value of each indicator\n",
        "    max_objects = 10\n",
        "    max_characteristics = 100\n",
        "\n",
        "    # Weighting factors for each indicator\n",
        "    weight_objects = 0.5\n",
        "    weight_characteristics = 0.5\n",
        "\n",
        "    # Rating calculation\n",
        "    overall_rating = (num_objects / max_objects * weight_objects +\n",
        "                      num_characteristics / max_characteristics * weight_characteristics) * 100\n",
        "\n",
        "    # Limit to a maximum value of 100 points\n",
        "    overall_rating = min(overall_rating, 100)\n",
        "\n",
        "    return overall_rating\n",
        "# Usage example\n",
        "num_objects = 5  # number of objects\n",
        "num_characteristics = 123  # number of characteristics to recognize by the 3D model\n",
        "\n",
        "overall_rating = calculate_overall_rating(num_objects, num_characteristics)\n",
        "print(\"rating on objects\", overall_rating)\n",
        "\n"
      ],
      "metadata": {
        "colab": {
          "base_uri": "https://localhost:8080/"
        },
        "id": "MkSP4HrLlp6b",
        "outputId": "d32dc2c4-ae52-44ab-b74a-6f8a818470f5"
      },
      "execution_count": 66,
      "outputs": [
        {
          "output_type": "stream",
          "name": "stdout",
          "text": [
            "rating on objects 86.5\n"
          ]
        }
      ]
    },
    {
      "cell_type": "code",
      "source": [
        "# Corner Score\n",
        "import cv2\n",
        "import numpy as np\n",
        "\n",
        "def evaluate_corners(image_path):\n",
        "    # Load the image\n",
        "    image = cv2.imread(image_path)\n",
        "\n",
        "    # Convert to grayscale\n",
        "    gray = cv2.cvtColor(image, cv2.COLOR_BGR2GRAY)\n",
        "\n",
        "    # Apply Harris corner detection to find corners\n",
        "    corners = cv2.cornerHarris(gray, 2, 3, 0.04)\n",
        "\n",
        "    # Dilate corners to make them more visible\n",
        "    corners = cv2.dilate(corners, None)\n",
        "\n",
        "    # Count the number of detected corners\n",
        "    num_corners = np.sum(corners > 0.01 * corners.max())\n",
        "\n",
        "    # Normalize the number of corners to a scale of 0 to 100\n",
        "    corner_score = min(100, num_corners / 100000 * 100)\n",
        "\n",
        "    # Print the number of detected corners\n",
        "    print(\"Number of corners:\", num_corners)\n",
        "\n",
        "    # Print the corner score\n",
        "    print(\"Corner Score:\", corner_score)\n",
        "\n",
        "    return corner_score\n",
        "\n",
        "# Example usage\n",
        "image_path = '505.jpg'\n",
        "evaluate_corners(image_path)\n"
      ],
      "metadata": {
        "colab": {
          "base_uri": "https://localhost:8080/"
        },
        "id": "fujc1TaMnrUM",
        "outputId": "886ad007-7d12-44c1-c88e-a89d75f88c9e"
      },
      "execution_count": 67,
      "outputs": [
        {
          "output_type": "stream",
          "name": "stdout",
          "text": [
            "Number of corners: 71361\n",
            "Corner Score: 71.36099999999999\n"
          ]
        },
        {
          "output_type": "execute_result",
          "data": {
            "text/plain": [
              "71.36099999999999"
            ]
          },
          "metadata": {},
          "execution_count": 67
        }
      ]
    },
    {
      "cell_type": "code",
      "source": [
        "!pip install imagehash\n"
      ],
      "metadata": {
        "colab": {
          "base_uri": "https://localhost:8080/"
        },
        "id": "uPrbBPXtq69R",
        "outputId": "c0a06a64-4ffd-41cb-f527-a29271faa14a"
      },
      "execution_count": 68,
      "outputs": [
        {
          "output_type": "stream",
          "name": "stdout",
          "text": [
            "Requirement already satisfied: imagehash in /usr/local/lib/python3.10/dist-packages (4.3.1)\n",
            "Requirement already satisfied: PyWavelets in /usr/local/lib/python3.10/dist-packages (from imagehash) (1.5.0)\n",
            "Requirement already satisfied: numpy in /usr/local/lib/python3.10/dist-packages (from imagehash) (1.25.2)\n",
            "Requirement already satisfied: pillow in /usr/local/lib/python3.10/dist-packages (from imagehash) (9.4.0)\n",
            "Requirement already satisfied: scipy in /usr/local/lib/python3.10/dist-packages (from imagehash) (1.11.4)\n"
          ]
        }
      ]
    },
    {
      "cell_type": "code",
      "source": [
        "# Uniqueness Score\n",
        "import imagehash\n",
        "from PIL import Image\n",
        "\n",
        "def evaluate_uniqueness(image_path1, image_path2):\n",
        "    # Load the images\n",
        "    img1 = Image.open(image_path1)\n",
        "    img2 = Image.open(image_path2)\n",
        "\n",
        "    # Calculate the perceptual hashes of the images\n",
        "    hash1 = imagehash.average_hash(img1)\n",
        "    hash2 = imagehash.average_hash(img2)\n",
        "\n",
        "    # Calculate the Hamming distance between the hashes\n",
        "    hamming_distance = hash1 - hash2\n",
        "\n",
        "    # Normalize the Hamming distance to a scale of 0 to 100\n",
        "    uniqueness_score = min(100, (1 - (hamming_distance / max(len(hash1), len(hash2)))) * 100)\n",
        "\n",
        "    # Print the Hamming distance and uniqueness score\n",
        "    print(\"Hamming Distance:\", hamming_distance)\n",
        "    print(\"Uniqueness Score:\", uniqueness_score)\n",
        "\n",
        "    return uniqueness_score\n",
        "\n",
        "# Example usage\n",
        "image_path1 = '505.jpg'\n",
        "image_path2 = '506.jpg'\n",
        "evaluate_uniqueness(image_path1, image_path2)\n"
      ],
      "metadata": {
        "colab": {
          "base_uri": "https://localhost:8080/"
        },
        "id": "k2350zWvqPtb",
        "outputId": "d2a2d3a6-dd1c-4a45-ea42-3758c5a20733"
      },
      "execution_count": 69,
      "outputs": [
        {
          "output_type": "stream",
          "name": "stdout",
          "text": [
            "Hamming Distance: 42\n",
            "Uniqueness Score: 34.375\n"
          ]
        },
        {
          "output_type": "execute_result",
          "data": {
            "text/plain": [
              "34.375"
            ]
          },
          "metadata": {},
          "execution_count": 69
        }
      ]
    },
    {
      "cell_type": "code",
      "source": [
        "# Overall image value\n",
        "def evaluate_image_value():\n",
        "    # Geometric characteristics (size, proportions)\n",
        "    geometry_score = 100\n",
        "    # Color and texture\n",
        "    color_texture_score = 90\n",
        "    # Depth\n",
        "    depth_score = 80\n",
        "    # Lighting\n",
        "    lighting_score = 85\n",
        "    # Objects features and objects\n",
        "    facial_features_score = 95\n",
        "    # Number of corners (for matching)\n",
        "    corners_score = 95\n",
        "    # Image uniqueness\n",
        "    uniqueness_score = 90\n",
        "    # Calculate overall image value\n",
        "    overall_score = (\n",
        "        0.15 * geometry_score +\n",
        "        0.15 * color_texture_score +\n",
        "        0.10 * depth_score +\n",
        "        0.10 * lighting_score +\n",
        "        0.15 * facial_features_score +\n",
        "        0.10 * corners_score +\n",
        "        0.25 * uniqueness_score\n",
        "    )\n",
        "\n",
        "    return overall_score\n",
        "\n",
        "# Example usage\n",
        "value = evaluate_image_value()\n",
        "print(\"Overall image value:\", value)\n"
      ],
      "metadata": {
        "colab": {
          "base_uri": "https://localhost:8080/"
        },
        "id": "634KQ7MkrF6c",
        "outputId": "13c283ee-4a77-40d5-eafd-fcb226f3e622"
      },
      "execution_count": 70,
      "outputs": [
        {
          "output_type": "stream",
          "name": "stdout",
          "text": [
            "Overall image value: 91.25\n"
          ]
        }
      ]
    },
    {
      "cell_type": "code",
      "source": [
        "# Token reward:\n",
        "def calculate_token_reward(overall_score):\n",
        "    # Define the conversion rate from score to tokens\n",
        "    token_per_score = 1 / 100  # 1 token per 100 score\n",
        "\n",
        "    # Calculate the token reward\n",
        "    token_reward = overall_score * token_per_score\n",
        "\n",
        "    return token_reward\n",
        "\n",
        "# Use the previously determined overall image value\n",
        "overall_score = value\n",
        "reward = calculate_token_reward(overall_score)\n",
        "print(\"Token reward:\", reward)\n"
      ],
      "metadata": {
        "colab": {
          "base_uri": "https://localhost:8080/"
        },
        "id": "TJHSZBNrsGoh",
        "outputId": "138570f6-e94c-42a3-ee92-e0c7a4db1d94"
      },
      "execution_count": 71,
      "outputs": [
        {
          "output_type": "stream",
          "name": "stdout",
          "text": [
            "Token reward: 0.9125\n"
          ]
        }
      ]
    }
  ]
}