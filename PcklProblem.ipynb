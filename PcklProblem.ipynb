{
  "nbformat": 4,
  "nbformat_minor": 0,
  "metadata": {
    "colab": {
      "provenance": []
    },
    "kernelspec": {
      "name": "python3",
      "display_name": "Python 3"
    },
    "language_info": {
      "name": "python"
    }
  },
  "cells": [
    {
      "cell_type": "code",
      "execution_count": 23,
      "metadata": {
        "id": "m55u--EIwSbc"
      },
      "outputs": [],
      "source": [
        "import os\n",
        "import cv2\n",
        "from time import time\n",
        "import numpy as np\n",
        "from sklearn.utils import shuffle\n",
        "\n",
        "from matplotlib import pyplot as plt\n",
        "plt.rcParams['figure.figsize'] = [15, 6]"
      ]
    },
    {
      "cell_type": "code",
      "source": [
        "import pickle\n",
        "import os\n",
        "\n",
        "with open('subset_homework.pckl', 'rb') as f:\n",
        "    obj = pickle.load(f)\n",
        "\n",
        "if obj is not None:\n",
        "    print(\"downloaded.\")\n",
        "    keys = obj.keys()\n",
        "    print(\"keys:\", keys)\n",
        "    if 'class_id_0' in keys and 'class_id_1' in keys:\n",
        "        print(\"keys 'class_id_0' и 'class_id_1' \")\n",
        "    else:\n",
        "        print(\"no keys 'class_id_0' и 'class_id_1'.\")\n",
        "else:\n",
        "    print(\"not downloaded\")\n"
      ],
      "metadata": {
        "colab": {
          "base_uri": "https://localhost:8080/"
        },
        "id": "VKRgLsMJwZE9",
        "outputId": "a65a7e01-2e29-4b98-b211-b9f931181a0c"
      },
      "execution_count": 25,
      "outputs": [
        {
          "output_type": "stream",
          "name": "stdout",
          "text": [
            "downloaded.\n",
            "keys: dict_keys(['class_id_0', 'class_id_1'])\n",
            "keys 'class_id_0' и 'class_id_1' \n"
          ]
        }
      ]
    },
    {
      "cell_type": "code",
      "source": [
        "print(obj.keys())"
      ],
      "metadata": {
        "colab": {
          "base_uri": "https://localhost:8080/"
        },
        "id": "Vnpv74BJwmmv",
        "outputId": "a7c829bf-2057-414e-8b3e-e313984d2848"
      },
      "execution_count": 26,
      "outputs": [
        {
          "output_type": "stream",
          "name": "stdout",
          "text": [
            "dict_keys(['class_id_0', 'class_id_1'])\n"
          ]
        }
      ]
    },
    {
      "cell_type": "code",
      "source": [
        "import pickle\n",
        "import os\n",
        "\n",
        "with open('subset_homework.pckl', 'rb') as f:\n",
        "    obj = pickle.load(f)\n",
        "\n",
        "if obj is not None:\n",
        "    print(\"downloaded.\")\n",
        "    keys = obj.keys()\n",
        "    print(\"keys:\", keys)\n",
        "    if 'class_id_0' in keys and 'class_id_1' in keys:\n",
        "        folder_0_path = obj['class_id_0']\n",
        "        folder_1_path = obj['class_id_1']\n",
        "        print(\"route class_id_0:\", folder_0_path)\n",
        "        print(\"route class_id_1:\", folder_1_path)\n",
        "    else:\n",
        "        print(\"no 'class_id_0' і 'class_id_1'.\")\n",
        "else:\n",
        "    print(\"not downloaded\")\n"
      ],
      "metadata": {
        "colab": {
          "base_uri": "https://localhost:8080/"
        },
        "id": "IupwU_S5xk4N",
        "outputId": "b10be8db-928b-4043-b6b4-3c7b5d3a3802"
      },
      "execution_count": 27,
      "outputs": [
        {
          "output_type": "stream",
          "name": "stdout",
          "text": [
            "downloaded.\n",
            "keys: dict_keys(['class_id_0', 'class_id_1'])\n",
            "route class_id_0: "
          ]
        },
        {
          "output_type": "stream",
          "name": "stderr",
          "text": [
            "IOPub data rate exceeded.\n",
            "The notebook server will temporarily stop sending output\n",
            "to the client in order to avoid crashing it.\n",
            "To change this limit, set the config variable\n",
            "`--NotebookApp.iopub_data_rate_limit`.\n",
            "\n",
            "Current values:\n",
            "NotebookApp.iopub_data_rate_limit=1000000.0 (bytes/sec)\n",
            "NotebookApp.rate_limit_window=3.0 (secs)\n",
            "\n"
          ]
        }
      ]
    }
  ]
}