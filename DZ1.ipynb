import cv2
import numpy as np
from matplotlib import pyplot as plt
plt.rcParams['figure.figsize'] = [15, 10]

# Load an image (you can freely choose any image you like)
img_path = '001.jpg'  # Update with the actual path to your image
img = cv2.imread(img_path)
# Convert it to RGB
img_rgb = cv2.cvtColor(img, cv2.COLOR_BGR2RGB)
# Plot it
plt.imshow(img_rgb)
plt.title('Loaded and Converted Image')
plt.axis('off')
plt.show()

# Split the image into the three color channels
red, green, blue = cv2.split(img)

# Compose the image in the RGB color space
img1 = cv2.merge([red, green, blue])

# Compose the image in the RBG color space
img2 = cv2.merge([red, blue, green])

# Compose the image in the GRB color space
img3 = cv2.merge([green, red, blue])

# Compose the image in the BGR color space
img4 = cv2.merge([blue, green, red])

# Create the collage
out1 = np.hstack([img1, img2])
out2 = np.hstack([img3, img4])
out = np.vstack([out1, out2])

# Plot the collage
plt.imshow(out)
plt.title('Color Channel Collage')
plt.axis(False)
plt.show()
