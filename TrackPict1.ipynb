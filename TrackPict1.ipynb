{
 "cells": [
  {
   "cell_type": "code",
   "execution_count": 3,
   "metadata": {},
   "outputs": [],
   "source": [
    "from PIL import Image\n",
    "import os\n",
    "\n",
    "def resize_with_aspect_ratio(input_dir, output_dir, target_size):\n",
    "    if not os.path.exists(output_dir):\n",
    "        os.makedirs(output_dir)\n",
    "\n",
    "    # Получение списка\n",
    "    files = os.listdir(input_dir)\n",
    "\n",
    "    for file in files:\n",
    "        if file.endswith(\".DS_Store\"):\n",
    "            continue  # Пропустить файлы .DS_Store\n",
    "\n",
    "        # Путь к исходному и выходному файлу\n",
    "        input_path = os.path.join(input_dir, file)\n",
    "        output_path = os.path.join(output_dir, file)\n",
    "\n",
    "        # Открытие и изменение размеров изображения\n",
    "        with Image.open(input_path) as img:\n",
    "            # Определение соотношения сторон  изображения\n",
    "            aspect_ratio = img.width / img.height\n",
    "\n",
    "            # Определение размера нового изображения\n",
    "            if aspect_ratio > 1:\n",
    "                new_width = target_size\n",
    "                new_height = int(new_width / aspect_ratio)\n",
    "            else:\n",
    "                new_height = target_size\n",
    "                new_width = int(new_height * aspect_ratio)\n",
    "\n",
    "            # Изменение изображения\n",
    "            img_resized = img.resize((new_width, new_height))\n",
    "\n",
    "            # Сохранение\n",
    "            img_resized.save(output_path)\n",
    "\n",
    "# Вх и вых дирректория\n",
    "input_dir = \"/Users/mac/Documents/R_D/COM_VIS/Project/track/basetrack/Track/b\"\n",
    "output_dir = \"/Users/mac/Documents/R_D/COM_VIS/Project/track/basetrack/bAd\"\n",
    "\n",
    "# Размер до которого изменить\n",
    "target_width = 224  #  пикс\n",
    "\n",
    "# Функция для изменения\n",
    "resize_with_aspect_ratio(input_dir, output_dir, target_width)\n",
    "\n"
   ]
  }
 ],
 "metadata": {
  "kernelspec": {
   "display_name": "Python 3",
   "language": "python",
   "name": "python3"
  },
  "language_info": {
   "codemirror_mode": {
    "name": "ipython",
    "version": 3
   },
   "file_extension": ".py",
   "mimetype": "text/x-python",
   "name": "python",
   "nbconvert_exporter": "python",
   "pygments_lexer": "ipython3",
   "version": "3.12.2"
  }
 },
 "nbformat": 4,
 "nbformat_minor": 2
}
