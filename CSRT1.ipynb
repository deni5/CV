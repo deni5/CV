{
  "nbformat": 4,
  "nbformat_minor": 0,
  "metadata": {
    "colab": {
      "provenance": []
    },
    "kernelspec": {
      "name": "python3",
      "display_name": "Python 3"
    },
    "language_info": {
      "name": "python"
    }
  },
  "cells": [
    {
      "cell_type": "code",
      "execution_count": null,
      "metadata": {
        "id": "i1sruhEYpnKJ"
      },
      "outputs": [],
      "source": [
        "import cv2\n",
        "import numpy as np\n",
        "from google.colab.patches import cv2_imshow\n",
        "\n",
        "video = cv2.VideoCapture(\"003.mp4\")  # Load video file\n",
        "\n",
        "# Initialize parameters for Lucas-Kanade method\n",
        "lk_params = dict(winSize=(15, 15),\n",
        "                 maxLevel=4,\n",
        "                 criteria=(cv2.TERM_CRITERIA_EPS | cv2.TERM_CRITERIA_COUNT, 10, 0.03))\n",
        "\n",
        "# Read the first frame\n",
        "success, prev_frame = video.read()\n",
        "prev_gray = cv2.cvtColor(prev_frame, cv2.COLOR_BGR2GRAY)\n",
        "\n",
        "# Define initial bounding box for the tracker\n",
        "bbox = cv2.selectROI(\"Frame\", prev_frame, False)\n",
        "x, y, w, h = bbox\n",
        "\n",
        "# Initialize tracker with the initial bounding box\n",
        "tracker = cv2.TrackerCSRT_create()\n",
        "tracker.init(prev_frame, bbox)\n",
        "\n",
        "while True:\n",
        "    # Read a new frame\n",
        "    success, frame = video.read()\n",
        "    if not success:\n",
        "        break\n",
        "\n",
        "    # Convert frame to grayscale\n",
        "    frame_gray = cv2.cvtColor(frame, cv2.COLOR_BGR2GRAY)\n",
        "\n",
        "    # Calculate optical flow\n",
        "    p1, st, err = cv2.calcOpticalFlowPyrLK(prev_gray, frame_gray,\n",
        "                                           np.array([[x, y]]).astype(np.float32),\n",
        "                                           None, **lk_params)\n",
        "\n",
        "    # Select good points\n",
        "    good_new = p1[st == 1]\n",
        "    good_old = np.array([[x, y]]).astype(np.float32)\n",
        "\n",
        "    # Calculate bounding box from the tracked points\n",
        "    if len(good_new) > 0:\n",
        "        x, y = good_new.ravel()\n",
        "        x, y = int(x), int(y)\n",
        "\n",
        "    # Update the bounding box\n",
        "    bbox = (x, y, w, h)\n",
        "\n",
        "    # Initialize tracker with the updated bounding box\n",
        "    tracker.init(frame, bbox)\n",
        "\n",
        "    # Update the previous frame and previous points\n",
        "    prev_gray = frame_gray.copy()\n",
        "\n",
        "    # Draw bounding box on the object\n",
        "    (x, y, w, h) = [int(i) for i in bbox]\n",
        "    cv2.rectangle(frame, (x, y), (x + w, y + h), (0, 255, 0), 2)\n",
        "\n",
        "    # Display the frame with the bounding box\n",
        "    cv2_imshow(\"Frame\", frame)\n",
        "\n",
        "    if cv2.waitKey(1) & 0xFF == ord('q'):\n",
        "        break\n",
        "\n",
        "video.release()\n",
        "cv2.destroyAllWindows()\n",
        "\n",
        "\n",
        "\n"
      ]
    }
  ]
}