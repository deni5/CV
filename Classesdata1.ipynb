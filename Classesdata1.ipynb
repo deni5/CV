{
 "cells": [
  {
   "cell_type": "code",
   "execution_count": 10,
   "metadata": {},
   "outputs": [],
   "source": [
    "import os\n",
    "import cv2\n",
    "import numpy as np\n",
    "import pandas as pd\n",
    "\n",
    "from matplotlib import pyplot as plt\n",
    "plt.rcParams['figure.figsize'] = [15, 10]"
   ]
  },
  {
   "cell_type": "code",
   "execution_count": 11,
   "metadata": {},
   "outputs": [
    {
     "name": "stdout",
     "output_type": "stream",
     "text": [
      "Requirement already satisfied: pandas in /Library/Frameworks/Python.framework/Versions/3.12/lib/python3.12/site-packages (2.2.1)\n",
      "Requirement already satisfied: numpy<2,>=1.26.0 in /Library/Frameworks/Python.framework/Versions/3.12/lib/python3.12/site-packages (from pandas) (1.26.3)\n",
      "Requirement already satisfied: python-dateutil>=2.8.2 in /Library/Frameworks/Python.framework/Versions/3.12/lib/python3.12/site-packages (from pandas) (2.8.2)\n",
      "Requirement already satisfied: pytz>=2020.1 in /Library/Frameworks/Python.framework/Versions/3.12/lib/python3.12/site-packages (from pandas) (2024.1)\n",
      "Requirement already satisfied: tzdata>=2022.7 in /Library/Frameworks/Python.framework/Versions/3.12/lib/python3.12/site-packages (from pandas) (2024.1)\n",
      "Requirement already satisfied: six>=1.5 in /Library/Frameworks/Python.framework/Versions/3.12/lib/python3.12/site-packages (from python-dateutil>=2.8.2->pandas) (1.16.0)\n",
      "Note: you may need to restart the kernel to use updated packages.\n"
     ]
    }
   ],
   "source": [
    "pip install pandas"
   ]
  },
  {
   "cell_type": "code",
   "execution_count": 12,
   "metadata": {},
   "outputs": [
    {
     "name": "stdout",
     "output_type": "stream",
     "text": [
      "Requirement already satisfied: matplotlib in /Library/Frameworks/Python.framework/Versions/3.12/lib/python3.12/site-packages (3.8.3)\n",
      "Requirement already satisfied: contourpy>=1.0.1 in /Library/Frameworks/Python.framework/Versions/3.12/lib/python3.12/site-packages (from matplotlib) (1.2.0)\n",
      "Requirement already satisfied: cycler>=0.10 in /Library/Frameworks/Python.framework/Versions/3.12/lib/python3.12/site-packages (from matplotlib) (0.12.1)\n",
      "Requirement already satisfied: fonttools>=4.22.0 in /Library/Frameworks/Python.framework/Versions/3.12/lib/python3.12/site-packages (from matplotlib) (4.49.0)\n",
      "Requirement already satisfied: kiwisolver>=1.3.1 in /Library/Frameworks/Python.framework/Versions/3.12/lib/python3.12/site-packages (from matplotlib) (1.4.5)\n",
      "Requirement already satisfied: numpy<2,>=1.21 in /Library/Frameworks/Python.framework/Versions/3.12/lib/python3.12/site-packages (from matplotlib) (1.26.3)\n",
      "Requirement already satisfied: packaging>=20.0 in /Library/Frameworks/Python.framework/Versions/3.12/lib/python3.12/site-packages (from matplotlib) (23.2)\n",
      "Requirement already satisfied: pillow>=8 in /Library/Frameworks/Python.framework/Versions/3.12/lib/python3.12/site-packages (from matplotlib) (10.2.0)\n",
      "Requirement already satisfied: pyparsing>=2.3.1 in /Library/Frameworks/Python.framework/Versions/3.12/lib/python3.12/site-packages (from matplotlib) (3.1.2)\n",
      "Requirement already satisfied: python-dateutil>=2.7 in /Library/Frameworks/Python.framework/Versions/3.12/lib/python3.12/site-packages (from matplotlib) (2.8.2)\n",
      "Requirement already satisfied: six>=1.5 in /Library/Frameworks/Python.framework/Versions/3.12/lib/python3.12/site-packages (from python-dateutil>=2.7->matplotlib) (1.16.0)\n",
      "Note: you may need to restart the kernel to use updated packages.\n"
     ]
    }
   ],
   "source": [
    "pip install matplotlib"
   ]
  },
  {
   "cell_type": "code",
   "execution_count": 13,
   "metadata": {},
   "outputs": [
    {
     "name": "stdout",
     "output_type": "stream",
     "text": [
      "no file 27715 \n",
      "no file 4578 \n",
      "no file 34470 \n",
      "no file 13135 \n",
      "no file 30152 \n",
      "no file 11829 \n",
      "no file 36713 \n",
      "no file 20010 \n",
      "no file 4087 \n",
      "no file 19007 \n",
      "no file 32143 \n",
      "no file 34277 \n",
      "no file 17812 \n",
      "no file 29418 \n",
      "no file 22684 \n"
     ]
    },
    {
     "name": "stderr",
     "output_type": "stream",
     "text": [
      "[ WARN:0@1327.388] global loadsave.cpp:248 findDecoder imread_('/Users/mac/Documents/R_D/COM_VIS/Les13/Train/23/00023_00000_00025.png'): can't open/read file: check file path/integrity\n",
      "[ WARN:0@1327.390] global loadsave.cpp:248 findDecoder imread_('/Users/mac/Documents/R_D/COM_VIS/Les13/Train/2/00002_00059_00018.png'): can't open/read file: check file path/integrity\n",
      "[ WARN:0@1327.390] global loadsave.cpp:248 findDecoder imread_('/Users/mac/Documents/R_D/COM_VIS/Les13/Train/35/00035_00009_00001.png'): can't open/read file: check file path/integrity\n",
      "[ WARN:0@1327.390] global loadsave.cpp:248 findDecoder imread_('/Users/mac/Documents/R_D/COM_VIS/Les13/Train/8/00008_00032_00025.png'): can't open/read file: check file path/integrity\n",
      "[ WARN:0@1327.390] global loadsave.cpp:248 findDecoder imread_('/Users/mac/Documents/R_D/COM_VIS/Les13/Train/26/00026_00006_00002.png'): can't open/read file: check file path/integrity\n",
      "[ WARN:0@1327.390] global loadsave.cpp:248 findDecoder imread_('/Users/mac/Documents/R_D/COM_VIS/Les13/Train/7/00007_00037_00009.png'): can't open/read file: check file path/integrity\n",
      "[ WARN:0@1327.390] global loadsave.cpp:248 findDecoder imread_('/Users/mac/Documents/R_D/COM_VIS/Les13/Train/38/00038_00023_00024.png'): can't open/read file: check file path/integrity\n",
      "[ WARN:0@1327.391] global loadsave.cpp:248 findDecoder imread_('/Users/mac/Documents/R_D/COM_VIS/Les13/Train/12/00012_00055_00000.png'): can't open/read file: check file path/integrity\n",
      "[ WARN:0@1327.391] global loadsave.cpp:248 findDecoder imread_('/Users/mac/Documents/R_D/COM_VIS/Les13/Train/2/00002_00043_00007.png'): can't open/read file: check file path/integrity\n",
      "[ WARN:0@1327.391] global loadsave.cpp:248 findDecoder imread_('/Users/mac/Documents/R_D/COM_VIS/Les13/Train/12/00012_00021_00017.png'): can't open/read file: check file path/integrity\n",
      "[ WARN:0@1327.391] global loadsave.cpp:248 findDecoder imread_('/Users/mac/Documents/R_D/COM_VIS/Les13/Train/31/00031_00002_00013.png'): can't open/read file: check file path/integrity\n",
      "[ WARN:0@1327.391] global loadsave.cpp:248 findDecoder imread_('/Users/mac/Documents/R_D/COM_VIS/Les13/Train/35/00035_00002_00018.png'): can't open/read file: check file path/integrity\n",
      "[ WARN:0@1327.391] global loadsave.cpp:248 findDecoder imread_('/Users/mac/Documents/R_D/COM_VIS/Les13/Train/11/00011_00025_00022.png'): can't open/read file: check file path/integrity\n",
      "[ WARN:0@1327.391] global loadsave.cpp:248 findDecoder imread_('/Users/mac/Documents/R_D/COM_VIS/Les13/Train/25/00025_00031_00018.png'): can't open/read file: check file path/integrity\n",
      "[ WARN:0@1327.391] global loadsave.cpp:248 findDecoder imread_('/Users/mac/Documents/R_D/COM_VIS/Les13/Train/14/00014_00002_00004.png'): can't open/read file: check file path/integrity\n"
     ]
    }
   ],
   "source": [
    "import pandas as pd\n",
    "import numpy as np\n",
    "import cv2\n",
    "import matplotlib.pyplot as plt\n",
    "import os\n",
    "\n",
    "current_directory = os.getcwd()\n",
    "\n",
    "root = os.path.join(current_directory, 'Train.csv')\n",
    "\n",
    "data = pd.read_csv(root)\n",
    "\n",
    "# Number of training samples (amount of samples in data)\n",
    "num_samples = len(data)\n",
    "\n",
    "# Show random data samples\n",
    "for ii in range(15):\n",
    "    # Get random index\n",
    "    idx = np.random.randint(0, num_samples)\n",
    "    # Load image\n",
    "    img = cv2.imread(os.path.join(current_directory, data.iloc[idx]['Path'])) \n",
    "    if img is not None:\n",
    "        # Convert image to RGB\n",
    "        img = cv2.cvtColor(img, cv2.COLOR_BGR2RGB)\n",
    "        # Show image\n",
    "        plt.subplot(3,5,ii+1), plt.imshow(img), plt.title(data.iloc[idx]['Path'])\n",
    "    else:\n",
    "        print(f\"no file {idx} \")\n",
    "\n",
    "plt.show()\n"
   ]
  },
  {
   "cell_type": "code",
   "execution_count": 14,
   "metadata": {},
   "outputs": [],
   "source": [
    "# Load the dataset\n",
    "data = pd.read_csv('Train.csv')\n",
    "\n",
    "# Extract class identifiers from the 'ClassId' column\n",
    "ids = data['ClassId'].unique()\n"
   ]
  },
  {
   "cell_type": "code",
   "execution_count": 15,
   "metadata": {},
   "outputs": [
    {
     "data": {
      "image/png": "[encoded data removed]",
      "text/plain": [
       "<Figure size 1500x1000 with 1 Axes>"
      ]
     },
     "metadata": {},
     "output_type": "display_data"
    }
   ],
   "source": [
    "from collections import Counter\n",
    "import pandas as pd\n",
    "import matplotlib.pyplot as plt\n",
    "\n",
    "# Load the dataset\n",
    "data = pd.read_csv('Train.csv')\n",
    "\n",
    "# Extract class identifiers from the 'ClassId' column\n",
    "ids = data['ClassId']\n",
    "\n",
    "# Compute the histogram using Counter\n",
    "hist = Counter(ids)\n",
    "\n",
    "# Plot the histogram\n",
    "plt.bar(hist.keys(), hist.values())\n",
    "plt.xlabel('Traffic Sign ID')\n",
    "plt.ylabel('Counts')\n",
    "plt.title('Per-Class Histogram')\n",
    "plt.grid(True)\n",
    "plt.show()\n",
    "\n"
   ]
  },
  {
   "cell_type": "code",
   "execution_count": null,
   "metadata": {},
   "outputs": [],
   "source": []
  },
  {
   "cell_type": "code",
   "execution_count": null,
   "metadata": {},
   "outputs": [],
   "source": []
  }
 ],
 "metadata": {
  "kernelspec": {
   "display_name": "Python 3",
   "language": "python",
   "name": "python3"
  },
  "language_info": {
   "codemirror_mode": {
    "name": "ipython",
    "version": 3
   },
   "file_extension": ".py",
   "mimetype": "text/x-python",
   "name": "python",
   "nbconvert_exporter": "python",
   "pygments_lexer": "ipython3",
   "version": "3.12.2"
  }
 },
 "nbformat": 4,
 "nbformat_minor": 2
}
